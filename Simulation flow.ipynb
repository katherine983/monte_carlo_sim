{
 "cells": [
  {
   "cell_type": "markdown",
   "id": "f07a7bb9",
   "metadata": {},
   "source": [
    "•\tCreate script which:\n",
    "o\tloads a Mc object\n",
    "o\tgenerates the simulation sample\n",
    "o\tCalculates true entropy rate, true sample entropy, and true discrete renyi entropy\n",
    "o\tEstimates ApEn, SampEn, and CGR-Renyi from the sample\n",
    "o\tSaves sample sequences to file\n",
    "o\tSaves simulation iteration code, MC transition matrix code, MC order, alphabet size, sample observation size, true entropy values, ApEn, SampEn, and CGR-Renyi to a csv\n",
    "o\tSaves simulation iteration code and numpy bitgenerator seed to a file."
   ]
  }
 ],
 "metadata": {
  "kernelspec": {
   "display_name": "monte-carlo-env",
   "language": "python",
   "name": "monte-carlo-env"
  },
  "language_info": {
   "codemirror_mode": {
    "name": "ipython",
    "version": 3
   },
   "file_extension": ".py",
   "mimetype": "text/x-python",
   "name": "python",
   "nbconvert_exporter": "python",
   "pygments_lexer": "ipython3",
   "version": "3.8.13"
  }
 },
 "nbformat": 4,
 "nbformat_minor": 5
}
