{
 "cells": [
  {
   "cell_type": "markdown",
   "id": "f07a7bb9",
   "metadata": {},
   "source": [
    "•\tCreate script which:\n",
    "o\tloads a Mc object\n",
    "o\tgenerates the simulation sample\n",
    "o\tCalculates true entropy rate, true sample entropy, and true discrete renyi entropy\n",
    "o\tEstimates ApEn, SampEn, and CGR-Renyi from the sample\n",
    "o\tSaves sample sequences to file\n",
    "o\tSaves simulation iteration code, MC transition matrix code, MC order, alphabet size, sample observation size, true entropy values, ApEn, SampEn, and CGR-Renyi to a csv\n",
    "o\tSaves simulation iteration code and numpy bitgenerator seed to a file."
   ]
  },
  {
   "cell_type": "code",
   "execution_count": 1,
   "id": "4b1e48ea",
   "metadata": {},
   "outputs": [],
   "source": [
    "import json\n",
    "from pathlib import Path"
   ]
  },
  {
   "cell_type": "code",
   "execution_count": 2,
   "id": "6b77bb42",
   "metadata": {},
   "outputs": [
    {
     "name": "stdout",
     "output_type": "stream",
     "text": [
      "C:\\Users\\Wuestney\\Documents\\GitHub\\monte_carlo_sim\\input_data\\iiduniform\n"
     ]
    }
   ],
   "source": [
    "cwd = Path.cwd()\n",
    "dirpath = Path(cwd, \"input_data/iiduniform\")\n",
    "print(dirpath)\n",
    "outnames = dirpath.glob('*.json')"
   ]
  },
  {
   "cell_type": "code",
   "execution_count": 3,
   "id": "5121e197",
   "metadata": {},
   "outputs": [],
   "source": [
    "datalist = []\n",
    "alph = [4, 6, 10, 12, 15, 18, 20, 23]\n",
    "for m in range(len(alph)):\n",
    "    fname = f'iiduniform_{m}.json'\n",
    "    states = [chr(ord('a')+i) for i in range(alph[m])]\n",
    "    adict = {'a' : alph[m], 'states' : states}\n",
    "    with open(dirpath/fname, 'w') as fhand:\n",
    "        json.dump(adict, fhand)"
   ]
  },
  {
   "cell_type": "code",
   "execution_count": 6,
   "id": "497e59fe",
   "metadata": {},
   "outputs": [
    {
     "data": {
      "text/plain": [
       "str"
      ]
     },
     "execution_count": 6,
     "metadata": {},
     "output_type": "execute_result"
    }
   ],
   "source": [
    "fname = f'iiduniformA4.json'\n",
    "with open(dirpath/fname, 'r') as fhand:\n",
    "    params = json.load(fhand)\n",
    "type(params['states'][0])"
   ]
  },
  {
   "cell_type": "code",
   "execution_count": 21,
   "id": "f39298e7",
   "metadata": {},
   "outputs": [
    {
     "name": "stdout",
     "output_type": "stream",
     "text": [
      "{'Simulated Samples': {'iiduniA4N50': [['b', 'd', 'c', 'b', 'c', 'c', 'c', 'c', 'c', 'd', 'a', 'c', 'd', 'd', 'b', 'd', 'a', 'a', 'c', 'c', 'b', 'b', 'a', 'd', 'd', 'b', 'd', 'b', 'b', 'a', 'a', 'b', 'b', 'b', 'c', 'c', 'a', 'a', 'b', 'b', 'b', 'c', 'b', 'c', 'b', 'c', 'a', 'a', 'b', 'd'], ['b', 'a', 'd', 'c', 'c', 'd', 'd', 'a', 'c', 'b', 'a', 'd', 'c', 'd', 'b', 'd', 'b', 'a', 'a', 'b', 'a', 'd', 'b', 'a', 'c', 'd', 'd', 'b', 'c', 'd', 'a', 'b', 'b', 'd', 'd', 'b', 'a', 'a', 'a', 'c', 'b', 'a', 'a', 'a', 'b', 'b', 'c', 'd', 'c', 'a'], ['c', 'a', 'c', 'c', 'd', 'c', 'b', 'd', 'c', 'a', 'a', 'd', 'b', 'd', 'a', 'c', 'c', 'b', 'c', 'd', 'b', 'b', 'c', 'd', 'c', 'd', 'c', 'c', 'd', 'd', 'b', 'c', 'c', 'c', 'd', 'b', 'c', 'c', 'd', 'd', 'd', 'c', 'a', 'd', 'a', 'b', 'd', 'a', 'b', 'd'], ['b', 'a', 'a', 'b', 'a', 'b', 'b', 'c', 'c', 'c', 'd', 'a', 'c', 'c', 'd', 'b', 'a', 'd', 'c', 'c', 'b', 'b', 'a', 'c', 'b', 'b', 'a', 'b', 'a', 'd', 'b', 'b', 'a', 'c', 'd', 'c', 'd', 'a', 'd', 'b', 'b', 'd', 'b', 'a', 'd', 'd', 'd', 'a', 'b', 'd'], ['c', 'c', 'a', 'b', 'c', 'c', 'a', 'b', 'd', 'b', 'c', 'b', 'd', 'd', 'c', 'a', 'd', 'b', 'd', 'c', 'd', 'a', 'a', 'd', 'c', 'c', 'b', 'b', 'c', 'c', 'b', 'c', 'b', 'd', 'b', 'c', 'b', 'c', 'c', 'b', 'c', 'a', 'b', 'd', 'c', 'a', 'b', 'c', 'b', 'b'], ['d', 'd', 'a', 'b', 'd', 'd', 'b', 'd', 'c', 'a', 'd', 'c', 'a', 'c', 'b', 'b', 'c', 'c', 'b', 'd', 'b', 'd', 'c', 'd', 'b', 'a', 'a', 'd', 'c', 'a', 'c', 'b', 'b', 'c', 'a', 'a', 'b', 'd', 'b', 'b', 'd', 'c', 'c', 'b', 'd', 'c', 'd', 'c', 'b', 'c'], ['d', 'd', 'd', 'b', 'c', 'a', 'b', 'd', 'd', 'a', 'd', 'c', 'd', 'a', 'd', 'a', 'a', 'c', 'c', 'a', 'a', 'c', 'd', 'a', 'a', 'a', 'b', 'b', 'a', 'c', 'b', 'd', 'c', 'd', 'b', 'd', 'c', 'b', 'c', 'b', 'c', 'b', 'c', 'd', 'b', 'a', 'd', 'a', 'b', 'a'], ['b', 'a', 'c', 'd', 'c', 'c', 'c', 'c', 'b', 'c', 'c', 'c', 'b', 'd', 'a', 'c', 'b', 'a', 'c', 'c', 'd', 'c', 'b', 'd', 'b', 'd', 'b', 'd', 'b', 'a', 'a', 'd', 'a', 'a', 'c', 'b', 'b', 'b', 'd', 'c', 'c', 'c', 'd', 'a', 'd', 'a', 'd', 'b', 'c', 'b'], ['a', 'a', 'd', 'a', 'd', 'd', 'a', 'b', 'b', 'd', 'a', 'd', 'c', 'b', 'c', 'd', 'd', 'd', 'd', 'b', 'b', 'c', 'a', 'd', 'a', 'd', 'b', 'c', 'a', 'b', 'a', 'a', 'b', 'b', 'd', 'c', 'c', 'b', 'c', 'd', 'a', 'd', 'b', 'b', 'a', 'b', 'a', 'c', 'd', 'b'], ['a', 'c', 'b', 'a', 'd', 'd', 'c', 'a', 'd', 'c', 'b', 'd', 'a', 'd', 'c', 'd', 'a', 'a', 'a', 'd', 'b', 'a', 'd', 'c', 'c', 'd', 'a', 'b', 'c', 'a', 'b', 'b', 'b', 'c', 'c', 'b', 'c', 'd', 'a', 'd', 'b', 'd', 'c', 'a', 'd', 'c', 'a', 'd', 'a', 'd'], ['d', 'd', 'c', 'd', 'c', 'c', 'c', 'a', 'a', 'd', 'a', 'c', 'd', 'd', 'd', 'a', 'a', 'b', 'c', 'b', 'b', 'd', 'b', 'c', 'b', 'a', 'b', 'a', 'd', 'b', 'a', 'd', 'a', 'b', 'c', 'c', 'a', 'a', 'b', 'a', 'c', 'c', 'a', 'd', 'a', 'b', 'b', 'd', 'd', 'c'], ['b', 'd', 'c', 'd', 'b', 'b', 'd', 'a', 'a', 'c', 'a', 'd', 'c', 'd', 'a', 'a', 'd', 'b', 'c', 'b', 'd', 'b', 'd', 'd', 'a', 'b', 'a', 'b', 'c', 'c', 'b', 'd', 'c', 'b', 'd', 'b', 'b', 'c', 'c', 'b', 'a', 'd', 'b', 'c', 'c', 'b', 'a', 'd', 'c', 'b'], ['a', 'd', 'b', 'c', 'c', 'c', 'd', 'd', 'a', 'd', 'b', 'd', 'b', 'b', 'b', 'd', 'c', 'c', 'b', 'c', 'a', 'd', 'c', 'c', 'd', 'a', 'a', 'c', 'd', 'd', 'c', 'a', 'a', 'b', 'd', 'd', 'b', 'c', 'b', 'b', 'a', 'd', 'a', 'd', 'd', 'a', 'd', 'c', 'c', 'c'], ['a', 'c', 'c', 'd', 'd', 'd', 'b', 'd', 'd', 'b', 'c', 'c', 'd', 'c', 'b', 'b', 'd', 'a', 'b', 'd', 'c', 'b', 'a', 'b', 'd', 'd', 'a', 'a', 'c', 'd', 'b', 'b', 'c', 'd', 'd', 'b', 'a', 'b', 'b', 'b', 'b', 'b', 'b', 'a', 'b', 'b', 'a', 'a', 'c', 'a'], ['c', 'd', 'c', 'd', 'a', 'b', 'd', 'd', 'd', 'd', 'd', 'b', 'd', 'c', 'b', 'd', 'a', 'a', 'b', 'b', 'a', 'a', 'b', 'd', 'b', 'd', 'c', 'b', 'd', 'a', 'b', 'a', 'd', 'b', 'c', 'c', 'd', 'd', 'a', 'd', 'b', 'a', 'd', 'c', 'a', 'd', 'd', 'a', 'a', 'c'], ['d', 'a', 'b', 'b', 'c', 'd', 'a', 'd', 'b', 'c', 'c', 'd', 'a', 'c', 'd', 'a', 'c', 'a', 'b', 'd', 'c', 'b', 'b', 'b', 'c', 'a', 'c', 'a', 'a', 'b', 'c', 'd', 'a', 'a', 'a', 'b', 'a', 'd', 'a', 'c', 'd', 'd', 'b', 'd', 'd', 'c', 'c', 'c', 'b', 'd'], ['b', 'c', 'd', 'd', 'd', 'a', 'd', 'a', 'c', 'c', 'd', 'a', 'd', 'c', 'b', 'a', 'a', 'b', 'd', 'c', 'a', 'b', 'c', 'c', 'd', 'a', 'b', 'c', 'a', 'b', 'd', 'c', 'd', 'c', 'a', 'a', 'a', 'c', 'd', 'b', 'a', 'd', 'b', 'd', 'd', 'd', 'a', 'd', 'c', 'c'], ['b', 'b', 'b', 'b', 'c', 'd', 'b', 'd', 'b', 'c', 'd', 'd', 'a', 'c', 'c', 'c', 'd', 'd', 'c', 'b', 'b', 'a', 'c', 'd', 'b', 'a', 'b', 'd', 'b', 'c', 'd', 'd', 'c', 'a', 'c', 'a', 'd', 'a', 'd', 'd', 'c', 'c', 'd', 'a', 'b', 'a', 'c', 'c', 'c', 'a'], ['b', 'd', 'c', 'a', 'b', 'c', 'c', 'a', 'b', 'd', 'b', 'a', 'c', 'a', 'c', 'b', 'c', 'a', 'b', 'a', 'd', 'b', 'a', 'd', 'b', 'a', 'a', 'b', 'c', 'b', 'd', 'a', 'd', 'c', 'c', 'd', 'd', 'b', 'a', 'c', 'd', 'a', 'd', 'a', 'a', 'a', 'd', 'a', 'a', 'c'], ['a', 'b', 'c', 'd', 'c', 'd', 'c', 'd', 'a', 'c', 'a', 'c', 'a', 'd', 'c', 'd', 'd', 'a', 'd', 'c', 'a', 'c', 'c', 'b', 'a', 'a', 'b', 'a', 'c', 'a', 'd', 'c', 'b', 'c', 'd', 'a', 'b', 'd', 'b', 'b', 'b', 'c', 'b', 'b', 'b', 'd', 'b', 'd', 'c', 'b']], 'iiduniA4N100': [['d', 'b', 'b', 'c', 'd', 'c', 'b', 'b', 'c', 'b', 'd', 'b', 'b', 'd', 'b', 'b', 'd', 'd', 'd', 'b', 'b', 'a', 'b', 'd', 'd', 'd', 'b', 'a', 'd', 'b', 'c', 'c', 'a', 'c', 'a', 'a', 'b', 'a', 'd', 'a', 'c', 'a', 'd', 'd', 'b', 'c', 'c', 'c', 'd', 'a', 'a', 'd', 'b', 'c', 'd', 'c', 'c', 'b', 'd', 'b', 'c', 'd', 'b', 'c', 'b', 'a', 'a', 'c', 'a', 'd', 'c', 'd', 'a', 'a', 'b', 'c', 'b', 'c', 'a', 'a', 'c', 'd', 'c', 'd', 'b', 'b', 'b', 'd', 'c', 'b', 'c', 'c', 'd', 'd', 'a', 'd', 'c', 'b', 'b', 'd'], ['d', 'a', 'a', 'd', 'd', 'c', 'd', 'd', 'd', 'b', 'd', 'd', 'd', 'a', 'd', 'd', 'c', 'a', 'b', 'a', 'a', 'a', 'c', 'a', 'd', 'b', 'a', 'b', 'a', 'b', 'a', 'a', 'b', 'c', 'd', 'a', 'c', 'c', 'b', 'a', 'c', 'd', 'd', 'a', 'a', 'c', 'a', 'b', 'd', 'd', 'c', 'd', 'a', 'b', 'a', 'c', 'd', 'd', 'd', 'b', 'a', 'a', 'd', 'd', 'c', 'b', 'a', 'b', 'b', 'd', 'b', 'b', 'd', 'd', 'b', 'b', 'a', 'a', 'd', 'c', 'd', 'c', 'b', 'b', 'd', 'c', 'a', 'b', 'd', 'd', 'd', 'a', 'c', 'd', 'a', 'c', 'c', 'c', 'b', 'a'], ['d', 'a', 'd', 'd', 'd', 'b', 'a', 'a', 'd', 'c', 'd', 'a', 'c', 'a', 'd', 'a', 'c', 'c', 'b', 'd', 'b', 'b', 'b', 'a', 'a', 'a', 'b', 'b', 'c', 'a', 'd', 'a', 'c', 'a', 'b', 'd', 'b', 'd', 'b', 'd', 'a', 'a', 'b', 'a', 'b', 'a', 'a', 'b', 'b', 'a', 'c', 'b', 'c', 'a', 'b', 'c', 'b', 'b', 'a', 'a', 'a', 'a', 'a', 'd', 'a', 'a', 'b', 'c', 'c', 'd', 'b', 'b', 'b', 'c', 'd', 'd', 'c', 'b', 'c', 'c', 'a', 'd', 'd', 'b', 'a', 'a', 'c', 'd', 'a', 'a', 'a', 'c', 'a', 'a', 'c', 'd', 'd', 'b', 'a', 'd'], ['c', 'b', 'a', 'c', 'd', 'a', 'd', 'd', 'd', 'b', 'b', 'b', 'a', 'a', 'b', 'd', 'c', 'c', 'b', 'a', 'c', 'b', 'b', 'b', 'c', 'd', 'd', 'd', 'c', 'c', 'b', 'd', 'b', 'a', 'b', 'a', 'c', 'd', 'b', 'd', 'd', 'd', 'b', 'a', 'b', 'b', 'c', 'a', 'c', 'a', 'c', 'd', 'a', 'd', 'a', 'a', 'd', 'c', 'b', 'd', 'b', 'b', 'a', 'c', 'd', 'c', 'a', 'd', 'a', 'c', 'a', 'c', 'a', 'a', 'c', 'a', 'd', 'c', 'c', 'a', 'b', 'b', 'c', 'a', 'd', 'c', 'a', 'b', 'a', 'c', 'd', 'a', 'b', 'a', 'a', 'd', 'b', 'a', 'c', 'a'], ['a', 'b', 'a', 'b', 'a', 'c', 'c', 'b', 'a', 'd', 'c', 'b', 'c', 'a', 'c', 'd', 'a', 'b', 'd', 'c', 'c', 'b', 'd', 'd', 'c', 'a', 'a', 'c', 'd', 'a', 'a', 'c', 'b', 'd', 'd', 'c', 'd', 'b', 'b', 'd', 'b', 'b', 'b', 'd', 'b', 'c', 'd', 'a', 'b', 'a', 'b', 'b', 'b', 'b', 'a', 'c', 'a', 'c', 'd', 'c', 'a', 'b', 'd', 'c', 'c', 'a', 'c', 'c', 'd', 'd', 'b', 'a', 'd', 'a', 'b', 'd', 'a', 'b', 'a', 'c', 'c', 'a', 'd', 'c', 'd', 'c', 'a', 'd', 'c', 'd', 'd', 'a', 'd', 'b', 'b', 'b', 'c', 'b', 'a', 'b'], ['c', 'b', 'b', 'a', 'c', 'a', 'd', 'c', 'a', 'b', 'd', 'a', 'd', 'c', 'c', 'b', 'b', 'b', 'a', 'b', 'c', 'c', 'b', 'a', 'a', 'd', 'b', 'b', 'b', 'd', 'a', 'c', 'c', 'c', 'd', 'a', 'c', 'c', 'c', 'c', 'a', 'd', 'b', 'a', 'd', 'd', 'a', 'b', 'd', 'a', 'c', 'a', 'a', 'a', 'a', 'c', 'd', 'a', 'd', 'c', 'b', 'b', 'c', 'b', 'c', 'c', 'b', 'c', 'c', 'b', 'c', 'b', 'c', 'd', 'b', 'b', 'a', 'a', 'b', 'c', 'b', 'a', 'a', 'c', 'c', 'c', 'a', 'd', 'b', 'c', 'd', 'b', 'a', 'b', 'c', 'b', 'a', 'd', 'a', 'd'], ['a', 'c', 'd', 'd', 'b', 'a', 'a', 'c', 'b', 'c', 'a', 'b', 'c', 'b', 'd', 'b', 'b', 'b', 'a', 'b', 'c', 'd', 'c', 'd', 'c', 'd', 'c', 'c', 'a', 'c', 'b', 'a', 'a', 'c', 'a', 'c', 'b', 'b', 'b', 'b', 'd', 'b', 'c', 'c', 'b', 'd', 'b', 'd', 'a', 'c', 'd', 'd', 'c', 'c', 'a', 'c', 'a', 'b', 'c', 'a', 'a', 'b', 'a', 'a', 'b', 'd', 'b', 'c', 'a', 'b', 'c', 'a', 'a', 'a', 'c', 'a', 'd', 'd', 'a', 'b', 'a', 'd', 'b', 'a', 'c', 'd', 'd', 'd', 'c', 'b', 'd', 'c', 'c', 'a', 'b', 'a', 'b', 'd', 'b', 'a'], ['d', 'c', 'b', 'b', 'd', 'b', 'a', 'd', 'd', 'b', 'a', 'b', 'a', 'c', 'a', 'b', 'b', 'a', 'd', 'c', 'a', 'c', 'd', 'c', 'c', 'b', 'a', 'd', 'd', 'a', 'd', 'c', 'a', 'c', 'a', 'c', 'b', 'a', 'd', 'a', 'b', 'b', 'c', 'd', 'b', 'b', 'd', 'a', 'b', 'a', 'd', 'a', 'b', 'b', 'd', 'a', 'd', 'c', 'd', 'b', 'b', 'b', 'a', 'd', 'b', 'b', 'd', 'b', 'a', 'b', 'd', 'c', 'd', 'd', 'd', 'd', 'd', 'd', 'b', 'd', 'd', 'c', 'a', 'd', 'a', 'c', 'b', 'a', 'd', 'c', 'c', 'd', 'a', 'd', 'c', 'c', 'd', 'a', 'd', 'c'], ['c', 'b', 'c', 'd', 'a', 'a', 'c', 'b', 'c', 'c', 'b', 'c', 'b', 'b', 'b', 'd', 'd', 'c', 'd', 'a', 'a', 'a', 'd', 'b', 'c', 'b', 'a', 'c', 'c', 'a', 'a', 'd', 'a', 'c', 'd', 'a', 'd', 'a', 'c', 'c', 'a', 'c', 'b', 'd', 'c', 'b', 'c', 'a', 'd', 'd', 'c', 'a', 'd', 'd', 'b', 'd', 'd', 'a', 'd', 'c', 'b', 'c', 'c', 'a', 'b', 'c', 'b', 'c', 'b', 'd', 'c', 'a', 'c', 'a', 'b', 'a', 'b', 'a', 'd', 'c', 'a', 'b', 'b', 'c', 'b', 'b', 'd', 'd', 'a', 'a', 'a', 'a', 'a', 'd', 'a', 'c', 'a', 'b', 'd', 'b'], ['a', 'b', 'a', 'c', 'a', 'd', 'a', 'a', 'c', 'c', 'c', 'd', 'a', 'd', 'b', 'b', 'a', 'd', 'b', 'b', 'd', 'd', 'd', 'b', 'b', 'b', 'c', 'b', 'd', 'a', 'c', 'd', 'b', 'c', 'b', 'b', 'b', 'a', 'c', 'b', 'a', 'c', 'a', 'c', 'a', 'a', 'c', 'd', 'c', 'c', 'a', 'a', 'a', 'd', 'd', 'd', 'b', 'd', 'c', 'c', 'd', 'd', 'b', 'a', 'a', 'b', 'a', 'c', 'd', 'c', 'b', 'b', 'd', 'c', 'd', 'a', 'a', 'b', 'd', 'a', 'd', 'b', 'b', 'd', 'a', 'c', 'c', 'b', 'c', 'd', 'a', 'a', 'b', 'd', 'a', 'c', 'd', 'b', 'c', 'a'], ['a', 'a', 'b', 'c', 'd', 'c', 'c', 'b', 'a', 'd', 'b', 'b', 'b', 'b', 'b', 'c', 'b', 'b', 'a', 'b', 'd', 'b', 'c', 'c', 'd', 'b', 'd', 'b', 'b', 'b', 'c', 'd', 'c', 'b', 'b', 'c', 'd', 'd', 'd', 'b', 'b', 'b', 'c', 'a', 'd', 'a', 'd', 'c', 'c', 'a', 'd', 'b', 'b', 'a', 'a', 'c', 'b', 'c', 'a', 'b', 'b', 'c', 'b', 'b', 'd', 'b', 'b', 'c', 'c', 'a', 'b', 'b', 'b', 'b', 'd', 'b', 'c', 'b', 'b', 'c', 'a', 'd', 'c', 'b', 'c', 'b', 'c', 'a', 'c', 'b', 'd', 'b', 'b', 'c', 'b', 'd', 'd', 'c', 'c', 'c'], ['b', 'c', 'c', 'a', 'c', 'd', 'b', 'b', 'd', 'd', 'b', 'd', 'b', 'c', 'a', 'b', 'a', 'b', 'b', 'c', 'c', 'b', 'd', 'b', 'c', 'c', 'd', 'a', 'c', 'b', 'b', 'd', 'a', 'b', 'c', 'd', 'c', 'a', 'a', 'c', 'd', 'd', 'a', 'b', 'd', 'c', 'a', 'd', 'a', 'd', 'b', 'b', 'd', 'a', 'a', 'a', 'd', 'c', 'a', 'b', 'b', 'b', 'd', 'c', 'a', 'b', 'd', 'c', 'a', 'd', 'b', 'd', 'b', 'a', 'd', 'b', 'b', 'a', 'a', 'c', 'c', 'b', 'd', 'c', 'd', 'a', 'd', 'a', 'd', 'b', 'a', 'c', 'd', 'd', 'b', 'c', 'c', 'd', 'c', 'd'], ['b', 'd', 'd', 'b', 'b', 'b', 'a', 'c', 'a', 'a', 'd', 'c', 'b', 'd', 'b', 'd', 'c', 'b', 'c', 'c', 'd', 'd', 'c', 'b', 'a', 'b', 'b', 'd', 'd', 'c', 'b', 'c', 'a', 'd', 'd', 'a', 'a', 'c', 'a', 'b', 'd', 'b', 'b', 'a', 'c', 'a', 'c', 'd', 'a', 'a', 'c', 'c', 'b', 'a', 'c', 'a', 'a', 'c', 'c', 'd', 'd', 'c', 'c', 'b', 'a', 'c', 'd', 'a', 'a', 'c', 'b', 'b', 'c', 'c', 'a', 'c', 'a', 'a', 'b', 'd', 'a', 'd', 'd', 'c', 'a', 'a', 'c', 'd', 'c', 'c', 'b', 'b', 'b', 'a', 'b', 'c', 'd', 'a', 'b', 'a'], ['b', 'b', 'd', 'a', 'b', 'd', 'b', 'b', 'a', 'a', 'd', 'b', 'a', 'd', 'c', 'a', 'c', 'c', 'c', 'd', 'c', 'd', 'd', 'c', 'd', 'a', 'c', 'd', 'a', 'a', 'c', 'b', 'b', 'a', 'd', 'c', 'c', 'c', 'c', 'd', 'd', 'a', 'a', 'c', 'b', 'd', 'b', 'd', 'b', 'a', 'b', 'b', 'c', 'd', 'c', 'c', 'c', 'c', 'd', 'b', 'c', 'c', 'b', 'c', 'c', 'a', 'a', 'd', 'd', 'a', 'a', 'a', 'a', 'b', 'b', 'a', 'b', 'd', 'c', 'c', 'c', 'c', 'a', 'c', 'd', 'c', 'c', 'a', 'b', 'a', 'a', 'a', 'd', 'd', 'a', 'd', 'c', 'd', 'a', 'b'], ['a', 'b', 'c', 'd', 'a', 'a', 'c', 'b', 'b', 'd', 'c', 'c', 'a', 'd', 'c', 'c', 'd', 'b', 'b', 'c', 'c', 'b', 'a', 'a', 'a', 'c', 'a', 'b', 'd', 'b', 'b', 'a', 'd', 'b', 'a', 'b', 'd', 'a', 'b', 'd', 'a', 'a', 'a', 'd', 'a', 'a', 'b', 'd', 'c', 'c', 'a', 'c', 'd', 'c', 'c', 'b', 'c', 'd', 'd', 'a', 'c', 'c', 'd', 'c', 'c', 'd', 'a', 'c', 'd', 'd', 'd', 'b', 'a', 'b', 'c', 'd', 'd', 'b', 'b', 'a', 'a', 'c', 'c', 'd', 'c', 'c', 'a', 'b', 'a', 'a', 'c', 'c', 'b', 'c', 'a', 'b', 'a', 'b', 'c', 'b'], ['c', 'd', 'b', 'b', 'a', 'd', 'b', 'c', 'a', 'a', 'd', 'c', 'd', 'b', 'd', 'a', 'b', 'b', 'a', 'd', 'c', 'b', 'd', 'b', 'b', 'b', 'b', 'c', 'a', 'c', 'a', 'a', 'c', 'a', 'b', 'b', 'd', 'b', 'b', 'b', 'd', 'a', 'a', 'a', 'd', 'b', 'c', 'b', 'd', 'a', 'c', 'c', 'b', 'c', 'a', 'b', 'c', 'c', 'a', 'c', 'c', 'c', 'd', 'c', 'c', 'b', 'b', 'a', 'c', 'a', 'a', 'c', 'c', 'b', 'b', 'c', 'a', 'd', 'd', 'c', 'c', 'a', 'c', 'c', 'a', 'b', 'd', 'c', 'a', 'b', 'd', 'c', 'a', 'c', 'd', 'b', 'c', 'a', 'a', 'a'], ['b', 'd', 'd', 'a', 'a', 'c', 'b', 'c', 'a', 'a', 'b', 'd', 'c', 'd', 'c', 'd', 'b', 'c', 'd', 'b', 'd', 'c', 'd', 'b', 'b', 'd', 'c', 'c', 'b', 'd', 'c', 'c', 'b', 'c', 'd', 'a', 'a', 'a', 'a', 'c', 'c', 'b', 'c', 'd', 'd', 'b', 'c', 'a', 'd', 'd', 'd', 'd', 'a', 'c', 'd', 'b', 'd', 'a', 'd', 'a', 'b', 'b', 'a', 'd', 'c', 'c', 'c', 'b', 'b', 'c', 'c', 'b', 'b', 'a', 'a', 'd', 'b', 'a', 'b', 'c', 'd', 'c', 'a', 'c', 'b', 'd', 'b', 'a', 'b', 'c', 'd', 'a', 'd', 'd', 'b', 'c', 'd', 'b', 'd', 'd'], ['c', 'd', 'c', 'b', 'c', 'a', 'b', 'd', 'd', 'a', 'a', 'a', 'c', 'b', 'a', 'd', 'd', 'c', 'c', 'd', 'c', 'b', 'c', 'c', 'c', 'd', 'a', 'c', 'd', 'd', 'b', 'd', 'a', 'b', 'b', 'a', 'c', 'a', 'd', 'd', 'd', 'c', 'd', 'd', 'c', 'd', 'b', 'd', 'd', 'b', 'a', 'c', 'd', 'c', 'd', 'b', 'b', 'd', 'a', 'd', 'b', 'a', 'c', 'c', 'd', 'd', 'b', 'd', 'c', 'c', 'b', 'b', 'b', 'a', 'a', 'a', 'b', 'a', 'd', 'c', 'd', 'a', 'c', 'b', 'a', 'a', 'b', 'd', 'b', 'c', 'd', 'a', 'b', 'd', 'd', 'c', 'd', 'b', 'c', 'd'], ['a', 'a', 'a', 'd', 'b', 'b', 'd', 'c', 'b', 'd', 'd', 'c', 'd', 'd', 'b', 'b', 'a', 'c', 'd', 'b', 'd', 'b', 'b', 'b', 'a', 'c', 'd', 'c', 'd', 'b', 'b', 'a', 'b', 'a', 'd', 'a', 'b', 'd', 'a', 'b', 'a', 'a', 'b', 'a', 'a', 'c', 'd', 'b', 'd', 'c', 'b', 'b', 'b', 'd', 'd', 'a', 'd', 'a', 'd', 'a', 'b', 'c', 'b', 'a', 'c', 'd', 'a', 'a', 'a', 'b', 'd', 'd', 'a', 'c', 'd', 'c', 'a', 'b', 'a', 'b', 'd', 'd', 'd', 'c', 'd', 'c', 'c', 'b', 'a', 'd', 'b', 'a', 'a', 'a', 'b', 'a', 'b', 'a', 'b', 'b'], ['d', 'a', 'd', 'd', 'c', 'b', 'd', 'c', 'd', 'd', 'c', 'b', 'd', 'd', 'b', 'b', 'b', 'c', 'a', 'a', 'c', 'a', 'a', 'b', 'b', 'c', 'c', 'c', 'b', 'b', 'b', 'b', 'd', 'a', 'd', 'a', 'c', 'd', 'a', 'c', 'b', 'c', 'b', 'c', 'b', 'd', 'b', 'b', 'b', 'a', 'c', 'a', 'b', 'a', 'c', 'a', 'b', 'c', 'd', 'c', 'a', 'b', 'd', 'b', 'd', 'b', 'd', 'a', 'b', 'b', 'a', 'd', 'b', 'd', 'a', 'a', 'c', 'c', 'c', 'a', 'a', 'c', 'b', 'd', 'c', 'd', 'a', 'b', 'b', 'b', 'd', 'a', 'b', 'd', 'b', 'c', 'a', 'b', 'a', 'b']]}, 'BitGenerator states': {'iiduniA4N50': {'initial state': {'bit_generator': 'PCG64', 'state': {'state': 59461662700241471158195234920499790832, 'inc': 295688035286430511334206530483638249917}, 'has_uint32': 0, 'uinteger': 0}, '0': {'bit_generator': 'PCG64', 'state': {'state': 187065712834385719374048833510246922460, 'inc': 295688035286430511334206530483638249917}, 'has_uint32': 0, 'uinteger': 1947212147}, '1': {'bit_generator': 'PCG64', 'state': {'state': 112764454604613936985413156565209989690, 'inc': 295688035286430511334206530483638249917}, 'has_uint32': 0, 'uinteger': 4144633508}, '2': {'bit_generator': 'PCG64', 'state': {'state': 235250142721022336879173852637260260584, 'inc': 295688035286430511334206530483638249917}, 'has_uint32': 0, 'uinteger': 132888573}, '3': {'bit_generator': 'PCG64', 'state': {'state': 226235820255596850674767329467468278886, 'inc': 295688035286430511334206530483638249917}, 'has_uint32': 0, 'uinteger': 3782271466}, '4': {'bit_generator': 'PCG64', 'state': {'state': 219757160136846187309898214349612898356, 'inc': 295688035286430511334206530483638249917}, 'has_uint32': 0, 'uinteger': 866216944}, '5': {'bit_generator': 'PCG64', 'state': {'state': 74776233250182629136786501501026581458, 'inc': 295688035286430511334206530483638249917}, 'has_uint32': 0, 'uinteger': 2102754927}, '6': {'bit_generator': 'PCG64', 'state': {'state': 188155161666715619030629908668627738304, 'inc': 295688035286430511334206530483638249917}, 'has_uint32': 0, 'uinteger': 3389793080}, '7': {'bit_generator': 'PCG64', 'state': {'state': 305661331052843927262333502925830839422, 'inc': 295688035286430511334206530483638249917}, 'has_uint32': 0, 'uinteger': 428638528}, '8': {'bit_generator': 'PCG64', 'state': {'state': 215188410575085584582549723696199566476, 'inc': 295688035286430511334206530483638249917}, 'has_uint32': 0, 'uinteger': 2277784754}, '9': {'bit_generator': 'PCG64', 'state': {'state': 239082447989403476502429342242155182698, 'inc': 295688035286430511334206530483638249917}, 'has_uint32': 0, 'uinteger': 1602482857}, '10': {'bit_generator': 'PCG64', 'state': {'state': 280484212860002716893552805254155195800, 'inc': 295688035286430511334206530483638249917}, 'has_uint32': 0, 'uinteger': 431000512}, '11': {'bit_generator': 'PCG64', 'state': {'state': 320818804000082514106192560860182741398, 'inc': 295688035286430511334206530483638249917}, 'has_uint32': 0, 'uinteger': 2449771548}, '12': {'bit_generator': 'PCG64', 'state': {'state': 185385189288073038845523199423150431716, 'inc': 295688035286430511334206530483638249917}, 'has_uint32': 0, 'uinteger': 4183705617}, '13': {'bit_generator': 'PCG64', 'state': {'state': 182399433445830589960145890753630051842, 'inc': 295688035286430511334206530483638249917}, 'has_uint32': 0, 'uinteger': 425808371}, '14': {'bit_generator': 'PCG64', 'state': {'state': 310384522563980754089574119458569054576, 'inc': 295688035286430511334206530483638249917}, 'has_uint32': 0, 'uinteger': 1955349118}, '15': {'bit_generator': 'PCG64', 'state': {'state': 196024510770629891495153811710442027950, 'inc': 295688035286430511334206530483638249917}, 'has_uint32': 0, 'uinteger': 2080555260}, '16': {'bit_generator': 'PCG64', 'state': {'state': 317044846116211063901045898681817662524, 'inc': 295688035286430511334206530483638249917}, 'has_uint32': 0, 'uinteger': 994405927}, '17': {'bit_generator': 'PCG64', 'state': {'state': 108526867726669160049873479674985891482, 'inc': 295688035286430511334206530483638249917}, 'has_uint32': 0, 'uinteger': 3587716219}, '18': {'bit_generator': 'PCG64', 'state': {'state': 135438341404625414389705273724918463048, 'inc': 295688035286430511334206530483638249917}, 'has_uint32': 0, 'uinteger': 3811520105}, '19': {'bit_generator': 'PCG64', 'state': {'state': 148861594298324418752437369554479835846, 'inc': 295688035286430511334206530483638249917}, 'has_uint32': 0, 'uinteger': 1835287318}, 'end': {'bit_generator': 'PCG64', 'state': {'state': 237673670772076752956084213465893017492, 'inc': 295688035286430511334206530483638249917}, 'has_uint32': 0, 'uinteger': 1218820200}}, 'iiduniA4N100': {'initial state': {'bit_generator': 'PCG64', 'state': {'state': 59461662700241471158195234920499790832, 'inc': 295688035286430511334206530483638249917}, 'has_uint32': 0, 'uinteger': 0}, '0': {'bit_generator': 'PCG64', 'state': {'state': 187065712834385719374048833510246922460, 'inc': 295688035286430511334206530483638249917}, 'has_uint32': 0, 'uinteger': 1947212147}, '1': {'bit_generator': 'PCG64', 'state': {'state': 112764454604613936985413156565209989690, 'inc': 295688035286430511334206530483638249917}, 'has_uint32': 0, 'uinteger': 4144633508}, '2': {'bit_generator': 'PCG64', 'state': {'state': 235250142721022336879173852637260260584, 'inc': 295688035286430511334206530483638249917}, 'has_uint32': 0, 'uinteger': 132888573}, '3': {'bit_generator': 'PCG64', 'state': {'state': 226235820255596850674767329467468278886, 'inc': 295688035286430511334206530483638249917}, 'has_uint32': 0, 'uinteger': 3782271466}, '4': {'bit_generator': 'PCG64', 'state': {'state': 219757160136846187309898214349612898356, 'inc': 295688035286430511334206530483638249917}, 'has_uint32': 0, 'uinteger': 866216944}, '5': {'bit_generator': 'PCG64', 'state': {'state': 74776233250182629136786501501026581458, 'inc': 295688035286430511334206530483638249917}, 'has_uint32': 0, 'uinteger': 2102754927}, '6': {'bit_generator': 'PCG64', 'state': {'state': 188155161666715619030629908668627738304, 'inc': 295688035286430511334206530483638249917}, 'has_uint32': 0, 'uinteger': 3389793080}, '7': {'bit_generator': 'PCG64', 'state': {'state': 305661331052843927262333502925830839422, 'inc': 295688035286430511334206530483638249917}, 'has_uint32': 0, 'uinteger': 428638528}, '8': {'bit_generator': 'PCG64', 'state': {'state': 215188410575085584582549723696199566476, 'inc': 295688035286430511334206530483638249917}, 'has_uint32': 0, 'uinteger': 2277784754}, '9': {'bit_generator': 'PCG64', 'state': {'state': 239082447989403476502429342242155182698, 'inc': 295688035286430511334206530483638249917}, 'has_uint32': 0, 'uinteger': 1602482857}, '10': {'bit_generator': 'PCG64', 'state': {'state': 280484212860002716893552805254155195800, 'inc': 295688035286430511334206530483638249917}, 'has_uint32': 0, 'uinteger': 431000512}, '11': {'bit_generator': 'PCG64', 'state': {'state': 320818804000082514106192560860182741398, 'inc': 295688035286430511334206530483638249917}, 'has_uint32': 0, 'uinteger': 2449771548}, '12': {'bit_generator': 'PCG64', 'state': {'state': 185385189288073038845523199423150431716, 'inc': 295688035286430511334206530483638249917}, 'has_uint32': 0, 'uinteger': 4183705617}, '13': {'bit_generator': 'PCG64', 'state': {'state': 182399433445830589960145890753630051842, 'inc': 295688035286430511334206530483638249917}, 'has_uint32': 0, 'uinteger': 425808371}, '14': {'bit_generator': 'PCG64', 'state': {'state': 310384522563980754089574119458569054576, 'inc': 295688035286430511334206530483638249917}, 'has_uint32': 0, 'uinteger': 1955349118}, '15': {'bit_generator': 'PCG64', 'state': {'state': 196024510770629891495153811710442027950, 'inc': 295688035286430511334206530483638249917}, 'has_uint32': 0, 'uinteger': 2080555260}, '16': {'bit_generator': 'PCG64', 'state': {'state': 317044846116211063901045898681817662524, 'inc': 295688035286430511334206530483638249917}, 'has_uint32': 0, 'uinteger': 994405927}, '17': {'bit_generator': 'PCG64', 'state': {'state': 108526867726669160049873479674985891482, 'inc': 295688035286430511334206530483638249917}, 'has_uint32': 0, 'uinteger': 3587716219}, '18': {'bit_generator': 'PCG64', 'state': {'state': 135438341404625414389705273724918463048, 'inc': 295688035286430511334206530483638249917}, 'has_uint32': 0, 'uinteger': 3811520105}, '19': {'bit_generator': 'PCG64', 'state': {'state': 148861594298324418752437369554479835846, 'inc': 295688035286430511334206530483638249917}, 'has_uint32': 0, 'uinteger': 1835287318}, 'end': {'bit_generator': 'PCG64', 'state': {'state': 237673670772076752956084213465893017492, 'inc': 295688035286430511334206530483638249917}, 'has_uint32': 0, 'uinteger': 1218820200}}}, 'Alphabet': None, 'Name of Generating Distribution': 'iiduni', 'Markov Order': None, 'Alphabete': 4, 'Date_created': '2022-01-27T17:32:59'}\n"
     ]
    }
   ],
   "source": [
    "for name in outnames:\n",
    "    with open(name, 'r') as fname:\n",
    "        datasamp = json.load(fname)\n",
    "        print(datasamp)"
   ]
  },
  {
   "cell_type": "code",
   "execution_count": 10,
   "id": "9b1b66b1",
   "metadata": {
    "scrolled": true
   },
   "outputs": [
    {
     "ename": "TypeError",
     "evalue": "object of type 'generator' has no len()",
     "output_type": "error",
     "traceback": [
      "\u001b[1;31m---------------------------------------------------------------------------\u001b[0m",
      "\u001b[1;31mTypeError\u001b[0m                                 Traceback (most recent call last)",
      "\u001b[1;32m~\\AppData\\Local\\Temp\\ipykernel_19580\\2709001722.py\u001b[0m in \u001b[0;36m<cell line: 1>\u001b[1;34m()\u001b[0m\n\u001b[1;32m----> 1\u001b[1;33m \u001b[0mlen\u001b[0m\u001b[1;33m(\u001b[0m\u001b[0moutnames\u001b[0m\u001b[1;33m)\u001b[0m\u001b[1;33m\u001b[0m\u001b[1;33m\u001b[0m\u001b[0m\n\u001b[0m",
      "\u001b[1;31mTypeError\u001b[0m: object of type 'generator' has no len()"
     ]
    }
   ],
   "source": [
    "len(outnames)"
   ]
  },
  {
   "cell_type": "code",
   "execution_count": null,
   "id": "5d901ad2",
   "metadata": {},
   "outputs": [],
   "source": [
    "def load_simulated(filename, verbose=False):\n",
    "    with open(filename, 'r+') as fhand:\n",
    "        data = json.load(fhand)\n",
    "    samples = data['Simulated Samples']\n",
    "    bgstates = data['BitGenerator states']\n",
    "    if verbose:\n",
    "        print(\"Sample names in data\", samples.keys())\n",
    "        print(\"Number of sample names\", len(samples.keys()))\n",
    "        for k,v in samples.items():\n",
    "            print(f\"Number of samples for sample {k}\", len(v))\n",
    "        print(\"Number of items BitGenerator states\", len(bgstates.keys()))\n",
    "        print(\"Names of items in BitGenerator states\", bgstates.keys())\n",
    "        for sampname in bgstates.keys():\n",
    "            print(f\"BitGenerator states for sample {sampname}:\")\n",
    "            for statedict in bgstates[sampname].keys():\n",
    "                print(f\"State index: {statedict}\\tBitGenerator State: \", bgstates[sampname][statedict]['state'])\n",
    "    return samples, bgstates"
   ]
  },
  {
   "cell_type": "code",
   "execution_count": 1,
   "id": "eb2a6e9f",
   "metadata": {},
   "outputs": [
    {
     "ename": "NameError",
     "evalue": "name 'Simulator' is not defined",
     "output_type": "error",
     "traceback": [
      "\u001b[1;31m---------------------------------------------------------------------------\u001b[0m",
      "\u001b[1;31mNameError\u001b[0m                                 Traceback (most recent call last)",
      "\u001b[1;32m~\\AppData\\Local\\Temp\\ipykernel_20692\\1426128079.py\u001b[0m in \u001b[0;36m<cell line: 1>\u001b[1;34m()\u001b[0m\n\u001b[1;32m----> 1\u001b[1;33m \u001b[0msimulator\u001b[0m \u001b[1;33m=\u001b[0m \u001b[0mSimulator\u001b[0m\u001b[1;33m(\u001b[0m\u001b[0mgenRandseq\u001b[0m\u001b[1;33m,\u001b[0m \u001b[1;33m*\u001b[0m\u001b[0msimulator_params\u001b[0m\u001b[1;33m)\u001b[0m\u001b[1;33m\u001b[0m\u001b[1;33m\u001b[0m\u001b[0m\n\u001b[0m\u001b[0;32m      2\u001b[0m \u001b[1;31m#create dict to keep a log of bitgenerator state sequences for each sample\u001b[0m\u001b[1;33m\u001b[0m\u001b[1;33m\u001b[0m\u001b[0m\n\u001b[0;32m      3\u001b[0m \u001b[0msimulatorstates\u001b[0m \u001b[1;33m=\u001b[0m \u001b[1;33m{\u001b[0m\u001b[1;33m}\u001b[0m\u001b[1;33m\u001b[0m\u001b[1;33m\u001b[0m\u001b[0m\n\u001b[0;32m      4\u001b[0m \u001b[1;31m#empty dict to hold simulated datasets\u001b[0m\u001b[1;33m\u001b[0m\u001b[1;33m\u001b[0m\u001b[0m\n\u001b[0;32m      5\u001b[0m \u001b[0msimulated\u001b[0m \u001b[1;33m=\u001b[0m \u001b[1;33m{\u001b[0m\u001b[1;33m}\u001b[0m\u001b[1;33m\u001b[0m\u001b[1;33m\u001b[0m\u001b[0m\n",
      "\u001b[1;31mNameError\u001b[0m: name 'Simulator' is not defined"
     ]
    }
   ],
   "source": [
    "simulator = Simulator(genRandseq, *simulator_params)\n",
    "#create dict to keep a log of bitgenerator state sequences for each sample\n",
    "simulatorstates = {}\n",
    "#empty dict to hold simulated datasets\n",
    "simulated = {}\n",
    "for n in default_nobs_list:\n",
    "    sampname = f\"N{n}\"\n",
    "    samples = simulator(alpha4_statespace, nobs=n)\n",
    "    simulatorstates[sampname] = simulator.bgstateseq\n",
    "    simulated[sampname] = samples\n",
    "prevbatch = list()\n",
    "statesincommon = []\n",
    "# for the rest of the nobs in the nobs list, get an bool array indicating\n",
    "# which bg states are the same as the first sample batch\n",
    "for nobs in default_nobs_list[1:]:\n",
    "    sampname = f\"N{nobs}\"\n",
    "    assert np.array(simulated[sampname]).shape[1] == nobs\n",
    "    states = [simulatedstates[sampname][statedict]['state'] for statedict in simulatedstates[sampname].keys()]\n",
    "    if len(prevbatch) == 0:\n",
    "        prevbatch = np.array(states)\n",
    "    statesincommon.append(np.equal(np.array(states), firstsampstates))\n",
    "#get number of True elements in each row of statesincommon\n",
    "statesincommonsum = np.array(statesincommon).sum(1)"
   ]
  }
 ],
 "metadata": {
  "kernelspec": {
   "display_name": "monte-carlo-dev",
   "language": "python",
   "name": "monte-carlo-dev"
  },
  "language_info": {
   "codemirror_mode": {
    "name": "ipython",
    "version": 3
   },
   "file_extension": ".py",
   "mimetype": "text/x-python",
   "name": "python",
   "nbconvert_exporter": "python",
   "pygments_lexer": "ipython3",
   "version": "3.9.12"
  }
 },
 "nbformat": 4,
 "nbformat_minor": 5
}
